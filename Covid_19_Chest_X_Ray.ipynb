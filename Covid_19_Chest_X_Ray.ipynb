{
  "nbformat": 4,
  "nbformat_minor": 0,
  "metadata": {
    "colab": {
      "name": "Covid-19 Chest-X-Ray.ipynb",
      "provenance": [],
      "toc_visible": true,
      "authorship_tag": "ABX9TyO3iC5KShW+G8DTevoaxUKO",
      "include_colab_link": true
    },
    "kernelspec": {
      "name": "python3",
      "display_name": "Python 3"
    },
    "accelerator": "GPU"
  },
  "cells": [
    {
      "cell_type": "markdown",
      "metadata": {
        "id": "view-in-github",
        "colab_type": "text"
      },
      "source": [
        "<a href=\"https://colab.research.google.com/github/Ankan1998/CovZer/blob/master/Covid_19_Chest_X_Ray.ipynb\" target=\"_parent\"><img src=\"https://colab.research.google.com/assets/colab-badge.svg\" alt=\"Open In Colab\"/></a>"
      ]
    },
    {
      "cell_type": "markdown",
      "metadata": {
        "id": "sTVhlNtdri3w",
        "colab_type": "text"
      },
      "source": [
        "# **Using pytorch detecting Covid-19 Infected Lungs from Normal Lungs with Chest X-Ray**"
      ]
    },
    {
      "cell_type": "code",
      "metadata": {
        "id": "FrO_RdeCrCNI",
        "colab_type": "code",
        "colab": {}
      },
      "source": [
        "import torch\n",
        "import pandas as pd\n",
        "import numpy as np\n",
        "import matplotlib.pyplot as plt\n",
        "%matplotlib inline"
      ],
      "execution_count": 2,
      "outputs": []
    },
    {
      "cell_type": "code",
      "metadata": {
        "id": "tVinQ9F7ySj6",
        "colab_type": "code",
        "colab": {}
      },
      "source": [
        "print(torch.__version__)"
      ],
      "execution_count": null,
      "outputs": []
    },
    {
      "cell_type": "code",
      "metadata": {
        "id": "6kiBhvPFrUNC",
        "colab_type": "code",
        "colab": {}
      },
      "source": [
        "import os \n",
        "import zipfile"
      ],
      "execution_count": 4,
      "outputs": []
    },
    {
      "cell_type": "markdown",
      "metadata": {
        "id": "ebZS5eAzsDyn",
        "colab_type": "text"
      },
      "source": [
        "### **Kaggle Preprocessing**"
      ]
    },
    {
      "cell_type": "code",
      "metadata": {
        "id": "rTCofSrzr6ov",
        "colab_type": "code",
        "colab": {}
      },
      "source": [
        "# Upload your own API from Kaggle\n",
        "from google.colab import files\n",
        "uploaded=files.upload()"
      ],
      "execution_count": null,
      "outputs": []
    },
    {
      "cell_type": "code",
      "metadata": {
        "id": "BASl7B2Hr_9P",
        "colab_type": "code",
        "colab": {}
      },
      "source": [
        "!pip install --upgrade --force-reinstall --no-deps kaggle"
      ],
      "execution_count": null,
      "outputs": []
    },
    {
      "cell_type": "code",
      "metadata": {
        "id": "4B61HWWxsM1I",
        "colab_type": "code",
        "colab": {}
      },
      "source": [
        "! mkdir ~/.kaggle\n",
        "! cp kaggle.json ~/.kaggle/\n",
        "! chmod 600 ~/.kaggle/kaggle.json"
      ],
      "execution_count": 7,
      "outputs": []
    },
    {
      "cell_type": "markdown",
      "metadata": {
        "id": "qKnF2bLUsQ-Q",
        "colab_type": "text"
      },
      "source": [
        "### Importing kaggle Data Train Set"
      ]
    },
    {
      "cell_type": "code",
      "metadata": {
        "id": "JdjOAq_bsTvn",
        "colab_type": "code",
        "colab": {}
      },
      "source": [
        "!kaggle datasets download -d tawsifurrahman/covid19-radiography-database -p \"/tmp\""
      ],
      "execution_count": null,
      "outputs": []
    },
    {
      "cell_type": "code",
      "metadata": {
        "id": "U0KUjsVcs3_4",
        "colab_type": "code",
        "colab": {}
      },
      "source": [
        "local_zip='/tmp/covid19-radiography-database.zip'\n",
        "zip_ref=zipfile.ZipFile(local_zip,'r')\n",
        "zip_ref.extractall(\"/tmp\")\n",
        "zip_ref.close()"
      ],
      "execution_count": 9,
      "outputs": []
    },
    {
      "cell_type": "code",
      "metadata": {
        "id": "67SuSQWEs_TP",
        "colab_type": "code",
        "colab": {}
      },
      "source": [
        "!mkdir \"/tmp/COVID-19 Radiography Database/Xray_train_data\""
      ],
      "execution_count": 10,
      "outputs": []
    },
    {
      "cell_type": "code",
      "metadata": {
        "id": "fGrAf9pptGEX",
        "colab_type": "code",
        "colab": {}
      },
      "source": [
        "!mv \"/tmp/COVID-19 Radiography Database/COVID-19\" \"/tmp/COVID-19 Radiography Database/Xray_train_data\""
      ],
      "execution_count": 11,
      "outputs": []
    },
    {
      "cell_type": "code",
      "metadata": {
        "id": "89UP3sUHtSc_",
        "colab_type": "code",
        "colab": {}
      },
      "source": [
        "!mv \"/tmp/COVID-19 Radiography Database/NORMAL\" \"/tmp/COVID-19 Radiography Database/Xray_train_data\""
      ],
      "execution_count": 12,
      "outputs": []
    },
    {
      "cell_type": "code",
      "metadata": {
        "id": "LUTlgElLvkUw",
        "colab_type": "code",
        "colab": {}
      },
      "source": [
        "!mv \"/tmp/COVID-19 Radiography Database/Xray_train_data\" \"/tmp\""
      ],
      "execution_count": 13,
      "outputs": []
    },
    {
      "cell_type": "markdown",
      "metadata": {
        "id": "Txo-Ok26yCnQ",
        "colab_type": "text"
      },
      "source": [
        "## **Starting Actual work**"
      ]
    },
    {
      "cell_type": "code",
      "metadata": {
        "id": "2IC4h81qx4O_",
        "colab_type": "code",
        "colab": {}
      },
      "source": [
        "from torchvision.datasets import ImageFolder\n",
        "from torchvision import transforms"
      ],
      "execution_count": 14,
      "outputs": []
    },
    {
      "cell_type": "markdown",
      "metadata": {
        "id": "2NWur8C_AYvs",
        "colab_type": "text"
      },
      "source": [
        "### Directing to Train Folder\n",
        "##### Works similiar as ImageData Generator of Keras"
      ]
    },
    {
      "cell_type": "code",
      "metadata": {
        "id": "KCx7r6Vr-U9m",
        "colab_type": "code",
        "colab": {}
      },
      "source": [
        "# Defining transform to resize 1024x1024 to 128x128\n",
        "# To change to Tensor\n",
        "transform=transforms.Compose([\n",
        "                              transforms.Resize([64,64]),\n",
        "                              transforms.ToTensor()\n",
        "])"
      ],
      "execution_count": 15,
      "outputs": []
    },
    {
      "cell_type": "code",
      "metadata": {
        "id": "Oeb4-tW9AqWr",
        "colab_type": "code",
        "colab": {}
      },
      "source": [
        "dataset=ImageFolder(\"/tmp/Xray_train_data\",transform=transform)"
      ],
      "execution_count": 16,
      "outputs": []
    },
    {
      "cell_type": "code",
      "metadata": {
        "id": "1DgFhtrbBZcd",
        "colab_type": "code",
        "colab": {}
      },
      "source": [
        "len(dataset)"
      ],
      "execution_count": null,
      "outputs": []
    },
    {
      "cell_type": "code",
      "metadata": {
        "id": "SGBWiQgDBDn6",
        "colab_type": "code",
        "colab": {
          "base_uri": "https://localhost:8080/",
          "height": 84
        },
        "outputId": "dabb3d59-0a28-4b5f-85b5-80c55f95a4b4"
      },
      "source": [
        "# Checking For Samples\n",
        "img0,label0=dataset[0]\n",
        "print(img0.shape,label0)\n",
        "img1,label1=dataset[1200]\n",
        "print(img1.shape,label1)\n",
        "print(\"*\"*60)\n",
        "print(dataset.classes)#list out all the classes"
      ],
      "execution_count": 18,
      "outputs": [
        {
          "output_type": "stream",
          "text": [
            "torch.Size([3, 64, 64]) 0\n",
            "torch.Size([3, 64, 64]) 1\n",
            "************************************************************\n",
            "['COVID-19', 'NORMAL']\n"
          ],
          "name": "stdout"
        }
      ]
    },
    {
      "cell_type": "code",
      "metadata": {
        "id": "HwLW33rSBPrS",
        "colab_type": "code",
        "colab": {
          "base_uri": "https://localhost:8080/",
          "height": 285
        },
        "outputId": "bc3589ba-31f4-4d9d-82b6-02d8bb6ade68"
      },
      "source": [
        "def show(img,label):\n",
        "  print(\"label-->\",dataset.classes[label])\n",
        "  plt.imshow(img.permute(1,2,0))\n",
        "\n",
        "show(*dataset[1441])\n",
        "# 0-->Covid-19;1-->Normal"
      ],
      "execution_count": 19,
      "outputs": [
        {
          "output_type": "stream",
          "text": [
            "label--> NORMAL\n"
          ],
          "name": "stdout"
        },
        {
          "output_type": "display_data",
          "data": {
            "image/png": "[encoded data removed]",
            "text/plain": [
              "<Figure size 432x288 with 1 Axes>"
            ]
          },
          "metadata": {
            "tags": [],
            "needs_background": "light"
          }
        }
      ]
    },
    {
      "cell_type": "markdown",
      "metadata": {
        "id": "MWzHlZG-Jd5I",
        "colab_type": "text"
      },
      "source": [
        "### Splitting Validation Set from Training Set"
      ]
    },
    {
      "cell_type": "code",
      "metadata": {
        "id": "Es5w1er0E02y",
        "colab_type": "code",
        "colab": {
          "base_uri": "https://localhost:8080/",
          "height": 34
        },
        "outputId": "56daccd4-ec71-4873-b285-debb150af684"
      },
      "source": [
        "def split_train_val(tot_img,val_percentage=0.2,rnd=23):\n",
        "  number_of_val=int(tot_img*val_percentage)\n",
        "  np.random.seed(rnd)\n",
        "  indexs=np.random.permutation(tot_img)\n",
        "  return indexs[number_of_val:],indexs[:number_of_val]\n",
        "\n",
        "randomness=12\n",
        "val_per=0.5\n",
        "train_indices,validation_indices=split_train_val(len(dataset),val_per,randomness)\n",
        "print(validation_indices[:5])"
      ],
      "execution_count": 20,
      "outputs": [
        {
          "output_type": "stream",
          "text": [
            "[ 850  746 1175  343  793]\n"
          ],
          "name": "stdout"
        }
      ]
    },
    {
      "cell_type": "code",
      "metadata": {
        "id": "G8k9H6J4OnyY",
        "colab_type": "code",
        "colab": {}
      },
      "source": [
        "from torch.utils.data.sampler import SubsetRandomSampler #samples randomly from given indices\n",
        "from torch.utils.data.dataloader import DataLoader # loads the data from sampler"
      ],
      "execution_count": 21,
      "outputs": []
    },
    {
      "cell_type": "code",
      "metadata": {
        "id": "RymvterAO_5y",
        "colab_type": "code",
        "colab": {}
      },
      "source": [
        "batch_size=32\n",
        "# Training Part\n",
        "train_sampler=SubsetRandomSampler(train_indices)\n",
        "train_ds=DataLoader(dataset,batch_size,sampler=train_sampler)\n",
        "\n",
        "# Validation Part\n",
        "val_sampler=SubsetRandomSampler(validation_indices)\n",
        "val_ds=DataLoader(dataset,batch_size,sampler=val_sampler)"
      ],
      "execution_count": 22,
      "outputs": []
    },
    {
      "cell_type": "markdown",
      "metadata": {
        "id": "WzVIb9hJSO0J",
        "colab_type": "text"
      },
      "source": [
        "### Optional: To see one batch of image"
      ]
    },
    {
      "cell_type": "code",
      "metadata": {
        "id": "ooLoP0cHSU0a",
        "colab_type": "code",
        "colab": {
          "base_uri": "https://localhost:8080/",
          "height": 0
        },
        "outputId": "4bd9f126-47ce-4725-804b-8f2a31cba3ab"
      },
      "source": [
        "from torchvision.utils import make_grid\n",
        "def one_batch(data_load):\n",
        "  for imgs,lbls in data_load:\n",
        "    fig,ax=plt.subplots(figsize=(8,4))\n",
        "    ax.set_xticks([]);ax.set_yticks([])\n",
        "    ax.imshow(make_grid(imgs,8).permute(1,2,0))\n",
        "    break\n",
        "one_batch(train_ds)"
      ],
      "execution_count": 23,
      "outputs": [
        {
          "output_type": "display_data",
          "data": {
            "image/png": "[encoded data removed]",
            "text/plain": [
              "<Figure size 576x288 with 1 Axes>"
            ]
          },
          "metadata": {
            "tags": []
          }
        }
      ]
    },
    {
      "cell_type": "markdown",
      "metadata": {
        "id": "3XqrluI6oCqf",
        "colab_type": "text"
      },
      "source": [
        "## **Applying CNN**"
      ]
    },
    {
      "cell_type": "code",
      "metadata": {
        "id": "mTJhfJmKTeUN",
        "colab_type": "code",
        "colab": {}
      },
      "source": [
        "import torch.nn as nn\n",
        "import torch.nn.functional as F"
      ],
      "execution_count": 24,
      "outputs": []
    },
    {
      "cell_type": "code",
      "metadata": {
        "id": "NFS7I1Z-oQRq",
        "colab_type": "code",
        "colab": {}
      },
      "source": [
        "# 1st layer of Conv2d\n",
        "# 1st Argument is number of color channel for RGB=3, for BW=1\n",
        "# 2nd Argument if number of filters, 3rd is filter size\n",
        "# how to calculate its output directly to Linear Unit\n",
        "# image=3x64x64-->64-3(filter_size)+1=62. So, output is 62x62xnumber of filter\n",
        "# then 62x62xnum_of_filter-->maxpool(2,2)-->62/2=31-->32*31*31\n",
        "# for same layer number of filter of output is input of new channel\n",
        "# for conv to linear layer the above calculation is reqd.\n",
        "\n",
        "\"\"\"\n",
        "# Used nn.Sequential for implementation\n",
        "model=nn.Sequential(\n",
        "        nn.Conv2d(3,8,3), \n",
        "        nn.ReLU(),\n",
        "        nn.MaxPool2d(2,2),\n",
        "        nn.Flatten(start_dim=1), #.view(-1,)\n",
        "        nn.Linear(8*31*31,2)\n",
        "\n",
        ")\n",
        "\"\"\"\n",
        "class ConvNet(nn.Module):\n",
        "  def __init__(self):\n",
        "    super(ConvNet,self).__init__()\n",
        "    self.conv1=nn.Conv2d(in_channels=3,out_channels=8,kernel_size=3)\n",
        "    self.out=nn.Linear(in_features=8*31*31,out_features=2)\n",
        "\n",
        "  def forward(self,l):\n",
        "\n",
        "    # 1 Conv layer\n",
        "    l=self.conv1(l)\n",
        "    l=F.relu(l)\n",
        "    l=F.max_pool2d(l,kernel_size=2)\n",
        "\n",
        "    # linear and final layer\n",
        "    l=l.reshape(-1,8*31*31)\n",
        "    l=self.out(l)\n",
        "\n",
        "    return l"
      ],
      "execution_count": 25,
      "outputs": []
    },
    {
      "cell_type": "code",
      "metadata": {
        "id": "yOL8s-SX_g3h",
        "colab_type": "code",
        "colab": {}
      },
      "source": [
        "model=ConvNet()"
      ],
      "execution_count": 26,
      "outputs": []
    },
    {
      "cell_type": "code",
      "metadata": {
        "id": "yxKgnIIvq0og",
        "colab_type": "code",
        "colab": {}
      },
      "source": [
        "def default_device():\n",
        "  if torch.cuda.is_available():\n",
        "    return torch.device(\"cuda:0\")\n",
        "  else:\n",
        "    return torch.device(\"cpu\")\n",
        "\n",
        "device=default_device()"
      ],
      "execution_count": null,
      "outputs": []
    },
    {
      "cell_type": "code",
      "metadata": {
        "id": "L8VLyyaQtav2",
        "colab_type": "code",
        "colab": {}
      },
      "source": [
        "# Loading model on GPU\n",
        "model.to(device)"
      ],
      "execution_count": null,
      "outputs": []
    },
    {
      "cell_type": "code",
      "metadata": {
        "id": "2ghlTY54phtk",
        "colab_type": "code",
        "colab": {}
      },
      "source": [
        "# Define loss and optimizer\n",
        "import torch.optim as optim\n",
        "loss_type = nn.CrossEntropyLoss()\n",
        "optimizer = optim.SGD(model.parameters(), lr=0.001)"
      ],
      "execution_count": 31,
      "outputs": []
    },
    {
      "cell_type": "code",
      "metadata": {
        "id": "qDBty2msr3Ng",
        "colab_type": "code",
        "colab": {}
      },
      "source": [
        "for epoch in range(15):  \n",
        "# loop over the dataset multiple times\n",
        "    print(epoch)\n",
        "    for i, data in enumerate(train_ds):\n",
        "        # get the inputs; data is a list of [inputs, labels]\n",
        "        inputs, labels = data\n",
        "        inputs,labels=inputs.to(device),labels.to(device)\n",
        "\n",
        "        # zero the parameter gradients\n",
        "        optimizer.zero_grad()\n",
        "\n",
        "        # forward + backward + optimize\n",
        "        outputs = model(inputs)\n",
        "        #labels=torch.unsqueeze(labels, 1)\n",
        "        #loss = loss_type(outputs, labels.type_as(outputs))\n",
        "        loss = loss_type(outputs, labels)\n",
        "        loss.backward()\n",
        "        optimizer.step()\n",
        "        \n",
        "\n",
        "print('Finished Training')"
      ],
      "execution_count": null,
      "outputs": []
    },
    {
      "cell_type": "code",
      "metadata": {
        "id": "kkgeIr2zWPCN",
        "colab_type": "code",
        "colab": {}
      },
      "source": [
        "right = 0\n",
        "total = 0\n",
        "with torch.no_grad():\n",
        "    for data in val_ds:\n",
        "        images, labels = data\n",
        "        #images=images.cuda()\n",
        "        #labels=labels.cuda()\n",
        "        outputs = model(images)\n",
        "        _, predicted = torch.max(outputs.data,1)\n",
        "        total += labels.size(0)\n",
        "        right += (predicted == labels).sum().item()\n",
        "\n",
        "print('Accuracy on the validation images: %d %%' % (\n",
        "    100 * right / total))"
      ],
      "execution_count": null,
      "outputs": []
    },
    {
      "cell_type": "markdown",
      "metadata": {
        "id": "ba8BHByxuHCH",
        "colab_type": "text"
      },
      "source": [
        "## **Importing Test data and testing on it**\n",
        "#### This is completely from different source from train,val data"
      ]
    },
    {
      "cell_type": "code",
      "metadata": {
        "id": "Rgunr2c6uGqY",
        "colab_type": "code",
        "colab": {}
      },
      "source": [
        "!kaggle datasets download -d fusicfenta/chest-xray-for-covid19-detection -p \"/tmp\""
      ],
      "execution_count": null,
      "outputs": []
    },
    {
      "cell_type": "code",
      "metadata": {
        "id": "AabRrCmRtzMM",
        "colab_type": "code",
        "colab": {}
      },
      "source": [
        "local_zip='/tmp/chest-xray-for-covid19-detection.zip'\n",
        "zip_ref=zipfile.ZipFile(local_zip,'r')\n",
        "zip_ref.extractall(\"/tmp\")\n",
        "zip_ref.close()"
      ],
      "execution_count": null,
      "outputs": []
    },
    {
      "cell_type": "code",
      "metadata": {
        "id": "O9qpRnBkvWfZ",
        "colab_type": "code",
        "colab": {}
      },
      "source": [
        "!ls \"/tmp/Dataset\""
      ],
      "execution_count": null,
      "outputs": []
    },
    {
      "cell_type": "code",
      "metadata": {
        "id": "k_1dXVR-wGT6",
        "colab_type": "code",
        "colab": {}
      },
      "source": [
        "!mkdir \"/tmp/Xray_val_data\""
      ],
      "execution_count": null,
      "outputs": []
    },
    {
      "cell_type": "code",
      "metadata": {
        "id": "uwGA9QE8wQfY",
        "colab_type": "code",
        "colab": {}
      },
      "source": [
        "!mv \"/tmp/Dataset/Train/Covid\" \"/tmp/Xray_val_data\""
      ],
      "execution_count": null,
      "outputs": []
    },
    {
      "cell_type": "code",
      "metadata": {
        "id": "VIhchIKyw56o",
        "colab_type": "code",
        "colab": {}
      },
      "source": [
        "!mv \"/tmp/Dataset/Train/Normal\" \"/tmp/Xray_val_data\""
      ],
      "execution_count": null,
      "outputs": []
    },
    {
      "cell_type": "code",
      "metadata": {
        "id": "0YdmAuX7xQk_",
        "colab_type": "code",
        "colab": {}
      },
      "source": [
        "!ls \"/tmp/Xray_val_data\""
      ],
      "execution_count": null,
      "outputs": []
    },
    {
      "cell_type": "code",
      "metadata": {
        "id": "-jtP_H9Asa7V",
        "colab_type": "code",
        "colab": {}
      },
      "source": [
        "transform=transforms.Compose([\n",
        "                              transforms.Resize([64,64]),\n",
        "                              transforms.ToTensor()\n",
        "])\n",
        "test_dataset=ImageFolder(\"/tmp/Xray_val_data\",transform=transform)"
      ],
      "execution_count": null,
      "outputs": []
    },
    {
      "cell_type": "code",
      "metadata": {
        "id": "4-EPy-1jsz39",
        "colab_type": "code",
        "colab": {}
      },
      "source": [
        "len(test_dataset)"
      ],
      "execution_count": null,
      "outputs": []
    },
    {
      "cell_type": "code",
      "metadata": {
        "id": "YwjClGzqsz_D",
        "colab_type": "code",
        "colab": {}
      },
      "source": [
        "# Checking For Samples\n",
        "img0,label0=test_dataset[0]\n",
        "print(img0.shape,label0)\n",
        "img1,label1=test_dataset[150]\n",
        "print(img1.shape,label1)\n",
        "print(\"*\"*60)\n",
        "print(test_dataset.classes)#list out all the classes"
      ],
      "execution_count": null,
      "outputs": []
    },
    {
      "cell_type": "code",
      "metadata": {
        "id": "tCgxoVKOuGrU",
        "colab_type": "code",
        "colab": {}
      },
      "source": [
        "def split_train_val(tot_img,val_percentage=0.2,rnd=23):\n",
        "  number_of_val=int(tot_img*val_percentage)\n",
        "  np.random.seed(rnd)\n",
        "  indexs=np.random.permutation(tot_img)\n",
        "  return indexs[number_of_val:],indexs[:number_of_val]\n",
        "\n",
        "randomness=12\n",
        "test_per=0.5\n",
        "test1_indices,test2_indices=split_train_val(len(test_dataset),test_per,randomness)\n",
        "print(test2_indices[:5])"
      ],
      "execution_count": null,
      "outputs": []
    },
    {
      "cell_type": "code",
      "metadata": {
        "id": "DNBwBPu-sz8t",
        "colab_type": "code",
        "colab": {}
      },
      "source": [
        "batch_size=32\n",
        "# Training Part\n",
        "test1_sampler=SubsetRandomSampler(test1_indices)\n",
        "test1_ds=DataLoader(test_dataset,batch_size,sampler=test1_sampler)\n",
        "\n",
        "test2_sampler=SubsetRandomSampler(test2_indices)\n",
        "test2_ds=DataLoader(test_dataset,batch_size,sampler=test2_sampler)"
      ],
      "execution_count": null,
      "outputs": []
    },
    {
      "cell_type": "code",
      "metadata": {
        "id": "8kGw6HCgszoC",
        "colab_type": "code",
        "colab": {}
      },
      "source": [
        "right = 0\n",
        "total = 0\n",
        "with torch.no_grad():\n",
        "    for data in test1_ds:\n",
        "        images, labels = data\n",
        "        images,labels=images.to(device),labels.to(device)\n",
        "        outputs = model(images)\n",
        "        _, predicted = torch.max(outputs.data, 1)\n",
        "        total += labels.size(0)\n",
        "        right += (predicted == labels).sum().item()\n",
        "\n",
        "print('Accuracy on the Test images: %d %%' % (\n",
        "    100 * right / total))"
      ],
      "execution_count": null,
      "outputs": []
    }
  ]
}