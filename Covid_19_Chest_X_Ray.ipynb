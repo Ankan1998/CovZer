{
  "nbformat": 4,
  "nbformat_minor": 0,
  "metadata": {
    "colab": {
      "name": "Covid-19 Chest-X-Ray.ipynb",
      "provenance": [],
      "toc_visible": true,
      "authorship_tag": "ABX9TyNzZwGIgyrpmrY92K86NDW3"
    },
    "kernelspec": {
      "name": "python3",
      "display_name": "Python 3"
    },
    "accelerator": "GPU"
  },
  "cells": [
    {
      "cell_type": "markdown",
      "metadata": {
        "id": "sTVhlNtdri3w",
        "colab_type": "text"
      },
      "source": [
        "# **Using pytorch detecting Covid-19 Infected Lungs from Normal Lungs with Chest X-Ray**"
      ]
    },
    {
      "cell_type": "code",
      "metadata": {
        "id": "FrO_RdeCrCNI",
        "colab_type": "code",
        "colab": {}
      },
      "source": [
        "import torch\n",
        "import pandas as pd\n",
        "import numpy as np\n",
        "import matplotlib.pyplot as plt\n",
        "%matplotlib inline"
      ],
      "execution_count": 1,
      "outputs": []
    },
    {
      "cell_type": "code",
      "metadata": {
        "id": "tVinQ9F7ySj6",
        "colab_type": "code",
        "colab": {
          "base_uri": "https://localhost:8080/",
          "height": 34
        },
        "outputId": "b7416066-346f-490e-f964-7b24399a3eaa"
      },
      "source": [
        "print(torch.__version__)"
      ],
      "execution_count": 2,
      "outputs": [
        {
          "output_type": "stream",
          "text": [
            "1.6.0+cu101\n"
          ],
          "name": "stdout"
        }
      ]
    },
    {
      "cell_type": "code",
      "metadata": {
        "id": "6kiBhvPFrUNC",
        "colab_type": "code",
        "colab": {}
      },
      "source": [
        "import os \n",
        "import zipfile"
      ],
      "execution_count": 3,
      "outputs": []
    },
    {
      "cell_type": "markdown",
      "metadata": {
        "id": "ebZS5eAzsDyn",
        "colab_type": "text"
      },
      "source": [
        "### **Kaggle Preprocessing**"
      ]
    },
    {
      "cell_type": "code",
      "metadata": {
        "id": "rTCofSrzr6ov",
        "colab_type": "code",
        "colab": {
          "resources": {
            "http://localhost:8080/nbextensions/google.colab/files.js": {
              "data": "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",
              "ok": true,
              "headers": [
                [
                  "content-type",
                  "application/javascript"
                ]
              ],
              "status": 200,
              "status_text": ""
            }
          },
          "base_uri": "https://localhost:8080/",
          "height": 73
        },
        "outputId": "03b96126-24fb-4636-cbd7-f448bb539ef9"
      },
      "source": [
        "# Upload your own API from Kaggle\n",
        "from google.colab import files\n",
        "uploaded=files.upload()"
      ],
      "execution_count": 4,
      "outputs": [
        {
          "output_type": "display_data",
          "data": {
            "text/html": [
              "\n",
              "     <input type=\"file\" id=\"files-c0a22be6-b4a9-4d7d-a25b-b54a1b62a919\" name=\"files[]\" multiple disabled\n",
              "        style=\"border:none\" />\n",
              "     <output id=\"result-c0a22be6-b4a9-4d7d-a25b-b54a1b62a919\">\n",
              "      Upload widget is only available when the cell has been executed in the\n",
              "      current browser session. Please rerun this cell to enable.\n",
              "      </output>\n",
              "      <script src=\"/nbextensions/google.colab/files.js\"></script> "
            ],
            "text/plain": [
              "<IPython.core.display.HTML object>"
            ]
          },
          "metadata": {
            "tags": []
          }
        },
        {
          "output_type": "stream",
          "text": [
            "Saving kaggle.json to kaggle.json\n"
          ],
          "name": "stdout"
        }
      ]
    },
    {
      "cell_type": "code",
      "metadata": {
        "id": "BASl7B2Hr_9P",
        "colab_type": "code",
        "colab": {
          "base_uri": "https://localhost:8080/",
          "height": 255
        },
        "outputId": "b909b69d-b36b-45d7-a785-b2f79e31c235"
      },
      "source": [
        "!pip install --upgrade --force-reinstall --no-deps kaggle"
      ],
      "execution_count": 5,
      "outputs": [
        {
          "output_type": "stream",
          "text": [
            "Collecting kaggle\n",
            "\u001b[?25l  Downloading https://files.pythonhosted.org/packages/62/ab/bb20f9b9e24f9a6250f95a432f8d9a7d745f8d24039d7a5a6eaadb7783ba/kaggle-1.5.6.tar.gz (58kB)\n",
            "\r\u001b[K     |█████▋                          | 10kB 22.9MB/s eta 0:00:01\r\u001b[K     |███████████▎                    | 20kB 3.0MB/s eta 0:00:01\r\u001b[K     |█████████████████               | 30kB 4.0MB/s eta 0:00:01\r\u001b[K     |██████████████████████▌         | 40kB 4.3MB/s eta 0:00:01\r\u001b[K     |████████████████████████████▏   | 51kB 3.5MB/s eta 0:00:01\r\u001b[K     |████████████████████████████████| 61kB 3.0MB/s \n",
            "\u001b[?25hBuilding wheels for collected packages: kaggle\n",
            "  Building wheel for kaggle (setup.py) ... \u001b[?25l\u001b[?25hdone\n",
            "  Created wheel for kaggle: filename=kaggle-1.5.6-cp36-none-any.whl size=72859 sha256=2538a6d6a173f2509a40e08a3fa4da5a54be0e2d27d7186bf1450d470d45b7c6\n",
            "  Stored in directory: /root/.cache/pip/wheels/57/4e/e8/bb28d035162fb8f17f8ca5d42c3230e284c6aa565b42b72674\n",
            "Successfully built kaggle\n",
            "Installing collected packages: kaggle\n",
            "  Found existing installation: kaggle 1.5.6\n",
            "    Uninstalling kaggle-1.5.6:\n",
            "      Successfully uninstalled kaggle-1.5.6\n",
            "Successfully installed kaggle-1.5.6\n"
          ],
          "name": "stdout"
        }
      ]
    },
    {
      "cell_type": "code",
      "metadata": {
        "id": "4B61HWWxsM1I",
        "colab_type": "code",
        "colab": {}
      },
      "source": [
        "! mkdir ~/.kaggle\n",
        "! cp kaggle.json ~/.kaggle/\n",
        "! chmod 600 ~/.kaggle/kaggle.json"
      ],
      "execution_count": 6,
      "outputs": []
    },
    {
      "cell_type": "markdown",
      "metadata": {
        "id": "qKnF2bLUsQ-Q",
        "colab_type": "text"
      },
      "source": [
        "### Importing kaggle Data Train Set"
      ]
    },
    {
      "cell_type": "code",
      "metadata": {
        "id": "JdjOAq_bsTvn",
        "colab_type": "code",
        "colab": {
          "base_uri": "https://localhost:8080/",
          "height": 67
        },
        "outputId": "e19ed285-896e-41a2-9bba-27d36f754f5f"
      },
      "source": [
        "!kaggle datasets download -d tawsifurrahman/covid19-radiography-database -p \"/tmp\""
      ],
      "execution_count": 7,
      "outputs": [
        {
          "output_type": "stream",
          "text": [
            "Downloading covid19-radiography-database.zip to /tmp\n",
            " 99% 1.14G/1.15G [00:05<00:00, 195MB/s]\n",
            "100% 1.15G/1.15G [00:05<00:00, 241MB/s]\n"
          ],
          "name": "stdout"
        }
      ]
    },
    {
      "cell_type": "code",
      "metadata": {
        "id": "U0KUjsVcs3_4",
        "colab_type": "code",
        "colab": {}
      },
      "source": [
        "local_zip='/tmp/covid19-radiography-database.zip'\n",
        "zip_ref=zipfile.ZipFile(local_zip,'r')\n",
        "zip_ref.extractall(\"/tmp\")\n",
        "zip_ref.close()"
      ],
      "execution_count": 8,
      "outputs": []
    },
    {
      "cell_type": "code",
      "metadata": {
        "id": "67SuSQWEs_TP",
        "colab_type": "code",
        "colab": {}
      },
      "source": [
        "!mkdir \"/tmp/COVID-19 Radiography Database/Xray_train_data\""
      ],
      "execution_count": 9,
      "outputs": []
    },
    {
      "cell_type": "code",
      "metadata": {
        "id": "fGrAf9pptGEX",
        "colab_type": "code",
        "colab": {}
      },
      "source": [
        "!mv \"/tmp/COVID-19 Radiography Database/COVID-19\" \"/tmp/COVID-19 Radiography Database/Xray_train_data\""
      ],
      "execution_count": 10,
      "outputs": []
    },
    {
      "cell_type": "code",
      "metadata": {
        "id": "89UP3sUHtSc_",
        "colab_type": "code",
        "colab": {}
      },
      "source": [
        "!mv \"/tmp/COVID-19 Radiography Database/NORMAL\" \"/tmp/COVID-19 Radiography Database/Xray_train_data\""
      ],
      "execution_count": 11,
      "outputs": []
    },
    {
      "cell_type": "code",
      "metadata": {
        "id": "LUTlgElLvkUw",
        "colab_type": "code",
        "colab": {}
      },
      "source": [
        "!mv \"/tmp/COVID-19 Radiography Database/Xray_train_data\" \"/tmp\""
      ],
      "execution_count": 12,
      "outputs": []
    },
    {
      "cell_type": "markdown",
      "metadata": {
        "id": "Txo-Ok26yCnQ",
        "colab_type": "text"
      },
      "source": [
        "## **Starting Actual work**"
      ]
    },
    {
      "cell_type": "code",
      "metadata": {
        "id": "2IC4h81qx4O_",
        "colab_type": "code",
        "colab": {}
      },
      "source": [
        "from torchvision.datasets import ImageFolder\n",
        "from torchvision import transforms"
      ],
      "execution_count": 13,
      "outputs": []
    },
    {
      "cell_type": "markdown",
      "metadata": {
        "id": "2NWur8C_AYvs",
        "colab_type": "text"
      },
      "source": [
        "### Directing to Train Folder\n",
        "##### Works similiar as ImageData Generator of Keras"
      ]
    },
    {
      "cell_type": "code",
      "metadata": {
        "id": "KCx7r6Vr-U9m",
        "colab_type": "code",
        "colab": {}
      },
      "source": [
        "# Defining transform to resize 1024x1024 to 128x128\n",
        "# To change to Tensor\n",
        "transform=transforms.Compose([\n",
        "                              transforms.Resize([64,64]),\n",
        "                              transforms.ToTensor()\n",
        "])"
      ],
      "execution_count": 14,
      "outputs": []
    },
    {
      "cell_type": "code",
      "metadata": {
        "id": "Oeb4-tW9AqWr",
        "colab_type": "code",
        "colab": {}
      },
      "source": [
        "dataset=ImageFolder(\"/tmp/Xray_train_data\",transform=transform)"
      ],
      "execution_count": 15,
      "outputs": []
    },
    {
      "cell_type": "code",
      "metadata": {
        "id": "1DgFhtrbBZcd",
        "colab_type": "code",
        "colab": {
          "base_uri": "https://localhost:8080/",
          "height": 34
        },
        "outputId": "7ccdeb6c-8be9-4547-ee12-42a0c5c11156"
      },
      "source": [
        "len(dataset)"
      ],
      "execution_count": 16,
      "outputs": [
        {
          "output_type": "execute_result",
          "data": {
            "text/plain": [
              "1560"
            ]
          },
          "metadata": {
            "tags": []
          },
          "execution_count": 16
        }
      ]
    },
    {
      "cell_type": "code",
      "metadata": {
        "id": "SGBWiQgDBDn6",
        "colab_type": "code",
        "colab": {
          "base_uri": "https://localhost:8080/",
          "height": 84
        },
        "outputId": "ca7bd9f9-bd58-4663-8d5a-d24a8c921f6e"
      },
      "source": [
        "# Checking For Samples\n",
        "img0,label0=dataset[0]\n",
        "print(img0.shape,label0)\n",
        "img1,label1=dataset[1200]\n",
        "print(img1.shape,label1)\n",
        "print(\"*\"*60)\n",
        "print(dataset.classes)#list out all the classes"
      ],
      "execution_count": 17,
      "outputs": [
        {
          "output_type": "stream",
          "text": [
            "torch.Size([3, 64, 64]) 0\n",
            "torch.Size([3, 64, 64]) 1\n",
            "************************************************************\n",
            "['COVID-19', 'NORMAL']\n"
          ],
          "name": "stdout"
        }
      ]
    },
    {
      "cell_type": "code",
      "metadata": {
        "id": "HwLW33rSBPrS",
        "colab_type": "code",
        "colab": {
          "base_uri": "https://localhost:8080/",
          "height": 285
        },
        "outputId": "a41c6438-4e39-4fbb-c67d-dba14a3259dd"
      },
      "source": [
        "def show(img,label):\n",
        "  print(\"label-->\",dataset.classes[label])\n",
        "  plt.imshow(img.permute(1,2,0))\n",
        "\n",
        "show(*dataset[1441])\n",
        "# 0-->Covid-19;1-->Normal"
      ],
      "execution_count": 18,
      "outputs": [
        {
          "output_type": "stream",
          "text": [
            "label--> NORMAL\n"
          ],
          "name": "stdout"
        },
        {
          "output_type": "display_data",
          "data": {
            "image/png": "[encoded data removed]",
            "text/plain": [
              "<Figure size 432x288 with 1 Axes>"
            ]
          },
          "metadata": {
            "tags": [],
            "needs_background": "light"
          }
        }
      ]
    },
    {
      "cell_type": "markdown",
      "metadata": {
        "id": "MWzHlZG-Jd5I",
        "colab_type": "text"
      },
      "source": [
        "### Splitting Validation Set from Training Set"
      ]
    },
    {
      "cell_type": "code",
      "metadata": {
        "id": "Es5w1er0E02y",
        "colab_type": "code",
        "colab": {
          "base_uri": "https://localhost:8080/",
          "height": 0
        },
        "outputId": "a5ce7295-65de-4caa-9400-9f04b79db8ec"
      },
      "source": [
        "def split_train_val(tot_img,val_percentage=0.2,rnd=23):\n",
        "  number_of_val=int(tot_img*val_percentage)\n",
        "  np.random.seed(rnd)\n",
        "  indexs=np.random.permutation(tot_img)\n",
        "  return indexs[number_of_val:],indexs[:number_of_val]\n",
        "\n",
        "randomness=12\n",
        "val_per=0.5\n",
        "train_indices,validation_indices=split_train_val(len(dataset),val_per,randomness)\n",
        "print(validation_indices[:5])"
      ],
      "execution_count": 19,
      "outputs": [
        {
          "output_type": "stream",
          "text": [
            "[ 850  746 1175  343  793]\n"
          ],
          "name": "stdout"
        }
      ]
    },
    {
      "cell_type": "code",
      "metadata": {
        "id": "G8k9H6J4OnyY",
        "colab_type": "code",
        "colab": {}
      },
      "source": [
        "from torch.utils.data.sampler import SubsetRandomSampler #samples randomly from given indices\n",
        "from torch.utils.data.dataloader import DataLoader # loads the data from sampler"
      ],
      "execution_count": 20,
      "outputs": []
    },
    {
      "cell_type": "code",
      "metadata": {
        "id": "RymvterAO_5y",
        "colab_type": "code",
        "colab": {}
      },
      "source": [
        "batch_size=32\n",
        "# Training Part\n",
        "train_sampler=SubsetRandomSampler(train_indices)\n",
        "train_ds=DataLoader(dataset,batch_size,sampler=train_sampler)\n",
        "\n",
        "# Validation Part\n",
        "val_sampler=SubsetRandomSampler(validation_indices)\n",
        "val_ds=DataLoader(dataset,batch_size,sampler=val_sampler)"
      ],
      "execution_count": 21,
      "outputs": []
    },
    {
      "cell_type": "markdown",
      "metadata": {
        "id": "WzVIb9hJSO0J",
        "colab_type": "text"
      },
      "source": [
        "### Optional: To see one batch of image"
      ]
    },
    {
      "cell_type": "code",
      "metadata": {
        "id": "ooLoP0cHSU0a",
        "colab_type": "code",
        "colab": {
          "base_uri": "https://localhost:8080/",
          "height": 252
        },
        "outputId": "dce99eb3-a707-4df0-ec54-a81f1f3bd76d"
      },
      "source": [
        "from torchvision.utils import make_grid\n",
        "def one_batch(data_load):\n",
        "  for imgs,lbls in data_load:\n",
        "    fig,ax=plt.subplots(figsize=(8,4))\n",
        "    ax.set_xticks([]);ax.set_yticks([])\n",
        "    ax.imshow(make_grid(imgs,8).permute(1,2,0))\n",
        "    break\n",
        "one_batch(train_ds)"
      ],
      "execution_count": 22,
      "outputs": [
        {
          "output_type": "display_data",
          "data": {
            "image/png": "[encoded data removed]",
            "text/plain": [
              "<Figure size 576x288 with 1 Axes>"
            ]
          },
          "metadata": {
            "tags": []
          }
        }
      ]
    },
    {
      "cell_type": "markdown",
      "metadata": {
        "id": "G8gqDAHb35l4",
        "colab_type": "text"
      },
      "source": [
        "### **Did not Use GPU because computation is not expensive**"
      ]
    },
    {
      "cell_type": "markdown",
      "metadata": {
        "id": "3XqrluI6oCqf",
        "colab_type": "text"
      },
      "source": [
        "## **Applying CNN**"
      ]
    },
    {
      "cell_type": "code",
      "metadata": {
        "id": "mTJhfJmKTeUN",
        "colab_type": "code",
        "colab": {}
      },
      "source": [
        "import torch.nn as nn\n",
        "import torch.nn.functional as F"
      ],
      "execution_count": 23,
      "outputs": []
    },
    {
      "cell_type": "code",
      "metadata": {
        "id": "NFS7I1Z-oQRq",
        "colab_type": "code",
        "colab": {}
      },
      "source": [
        "# 1st layer of Conv2d\n",
        "# 1st Argument is number of color channel for RGB=3, for BW=1\n",
        "# 2nd Argument if number of filters, 3rd is filter size\n",
        "# how to calculate its output directly to Linear Unit\n",
        "# image=3x64x64-->64-3(filter_size)+1=62. So, output is 62x62xnumber of filter\n",
        "# then 62x62xnum_of_filter-->maxpool(2,2)-->62/2=31-->32*31*31\n",
        "# for same layer number of filter of output is input of new channel\n",
        "# for conv to linear layer the above calculation is reqd.\n",
        "\n",
        "model=nn.Sequential(\n",
        "        nn.Conv2d(3,8,3), \n",
        "        nn.ReLU(),\n",
        "        nn.MaxPool2d(2,2),\n",
        "        nn.Flatten(),\n",
        "        nn.Linear(8*31*31,2)\n",
        "\n",
        ")"
      ],
      "execution_count": 24,
      "outputs": []
    },
    {
      "cell_type": "code",
      "metadata": {
        "id": "OdEiUkBWC43M",
        "colab_type": "code",
        "colab": {
          "base_uri": "https://localhost:8080/",
          "height": 34
        },
        "outputId": "47036fa1-4549-4177-ceec-7823782b0bd3"
      },
      "source": [
        "model[0].weight.shape"
      ],
      "execution_count": 25,
      "outputs": [
        {
          "output_type": "execute_result",
          "data": {
            "text/plain": [
              "torch.Size([8, 3, 3, 3])"
            ]
          },
          "metadata": {
            "tags": []
          },
          "execution_count": 25
        }
      ]
    },
    {
      "cell_type": "code",
      "metadata": {
        "id": "JEFxJcpDpeT4",
        "colab_type": "code",
        "colab": {
          "base_uri": "https://localhost:8080/",
          "height": 134
        },
        "outputId": "f0017fca-5a7b-41e8-e27e-d741409cb028"
      },
      "source": [
        "print(model)"
      ],
      "execution_count": 26,
      "outputs": [
        {
          "output_type": "stream",
          "text": [
            "Sequential(\n",
            "  (0): Conv2d(3, 8, kernel_size=(3, 3), stride=(1, 1))\n",
            "  (1): ReLU()\n",
            "  (2): MaxPool2d(kernel_size=2, stride=2, padding=0, dilation=1, ceil_mode=False)\n",
            "  (3): Flatten()\n",
            "  (4): Linear(in_features=7688, out_features=2, bias=True)\n",
            ")\n"
          ],
          "name": "stdout"
        }
      ]
    },
    {
      "cell_type": "code",
      "metadata": {
        "id": "2ghlTY54phtk",
        "colab_type": "code",
        "colab": {}
      },
      "source": [
        "# Define loss and optimizer\n",
        "import torch.optim as optim\n",
        "loss_type = nn.CrossEntropyLoss()\n",
        "optimizer = optim.SGD(model.parameters(), lr=0.001, momentum=0.9)"
      ],
      "execution_count": 27,
      "outputs": []
    },
    {
      "cell_type": "code",
      "metadata": {
        "id": "qDBty2msr3Ng",
        "colab_type": "code",
        "colab": {
          "base_uri": "https://localhost:8080/",
          "height": 34
        },
        "outputId": "62f160ce-9914-45e3-8327-da2138744dc4"
      },
      "source": [
        "for epoch in range(15):  \n",
        "# loop over the dataset multiple times\n",
        "\n",
        "    for i, data in enumerate(train_ds):\n",
        "        # get the inputs; data is a list of [inputs, labels]\n",
        "        inputs, labels = data\n",
        "\n",
        "        # zero the parameter gradients\n",
        "        optimizer.zero_grad()\n",
        "\n",
        "        # forward + backward + optimize\n",
        "        outputs = model(inputs)\n",
        "        loss = loss_type(outputs, labels)\n",
        "        loss.backward()\n",
        "        optimizer.step()\n",
        "\n",
        "print('Finished Training')"
      ],
      "execution_count": 28,
      "outputs": [
        {
          "output_type": "stream",
          "text": [
            "Finished Training\n"
          ],
          "name": "stdout"
        }
      ]
    },
    {
      "cell_type": "code",
      "metadata": {
        "id": "kkgeIr2zWPCN",
        "colab_type": "code",
        "colab": {
          "base_uri": "https://localhost:8080/",
          "height": 34
        },
        "outputId": "01f89113-fc8f-47f2-eca5-dde88bc39b82"
      },
      "source": [
        "right = 0\n",
        "total = 0\n",
        "with torch.no_grad():\n",
        "    for data in val_ds:\n",
        "        images, labels = data\n",
        "        outputs = model(images)\n",
        "        _, predicted = torch.max(outputs.data,1)\n",
        "        total += labels.size(0)\n",
        "        right += (predicted == labels).sum().item()\n",
        "\n",
        "print('Accuracy on the validation images: %d %%' % (\n",
        "    100 * right / total))"
      ],
      "execution_count": 45,
      "outputs": [
        {
          "output_type": "stream",
          "text": [
            "Accuracy on the validation images: 97 %\n"
          ],
          "name": "stdout"
        }
      ]
    },
    {
      "cell_type": "markdown",
      "metadata": {
        "id": "ba8BHByxuHCH",
        "colab_type": "text"
      },
      "source": [
        "## **Importing Test data and testing on it**\n",
        "#### This is completely from different source from train,val data"
      ]
    },
    {
      "cell_type": "code",
      "metadata": {
        "id": "Rgunr2c6uGqY",
        "colab_type": "code",
        "colab": {
          "base_uri": "https://localhost:8080/",
          "height": 67
        },
        "outputId": "cc60bd06-bf33-44fc-a7f1-997772b16fff"
      },
      "source": [
        "!kaggle datasets download -d fusicfenta/chest-xray-for-covid19-detection -p \"/tmp\""
      ],
      "execution_count": 30,
      "outputs": [
        {
          "output_type": "stream",
          "text": [
            "Downloading chest-xray-for-covid19-detection.zip to /tmp\n",
            "\r  0% 0.00/176M [00:00<?, ?B/s]\r 14% 25.0M/176M [00:00<00:00, 250MB/s]\r 39% 68.0M/176M [00:00<00:00, 287MB/s]\r 58% 102M/176M [00:00<00:00, 304MB/s] \r 76% 133M/176M [00:00<00:00, 309MB/s]\r 90% 158M/176M [00:00<00:00, 289MB/s]\n",
            "\r100% 176M/176M [00:00<00:00, 321MB/s]\n"
          ],
          "name": "stdout"
        }
      ]
    },
    {
      "cell_type": "code",
      "metadata": {
        "id": "AabRrCmRtzMM",
        "colab_type": "code",
        "colab": {}
      },
      "source": [
        "local_zip='/tmp/chest-xray-for-covid19-detection.zip'\n",
        "zip_ref=zipfile.ZipFile(local_zip,'r')\n",
        "zip_ref.extractall(\"/tmp\")\n",
        "zip_ref.close()"
      ],
      "execution_count": 31,
      "outputs": []
    },
    {
      "cell_type": "code",
      "metadata": {
        "id": "O9qpRnBkvWfZ",
        "colab_type": "code",
        "colab": {
          "base_uri": "https://localhost:8080/",
          "height": 34
        },
        "outputId": "3c72affc-c008-4877-fa35-f4529a84690d"
      },
      "source": [
        "!ls \"/tmp/Dataset\""
      ],
      "execution_count": 32,
      "outputs": [
        {
          "output_type": "stream",
          "text": [
            "Prediction  Train  Val\n"
          ],
          "name": "stdout"
        }
      ]
    },
    {
      "cell_type": "code",
      "metadata": {
        "id": "k_1dXVR-wGT6",
        "colab_type": "code",
        "colab": {}
      },
      "source": [
        "!mkdir \"/tmp/Xray_val_data\""
      ],
      "execution_count": 33,
      "outputs": []
    },
    {
      "cell_type": "code",
      "metadata": {
        "id": "uwGA9QE8wQfY",
        "colab_type": "code",
        "colab": {}
      },
      "source": [
        "!mv \"/tmp/Dataset/Train/Covid\" \"/tmp/Xray_val_data\""
      ],
      "execution_count": 34,
      "outputs": []
    },
    {
      "cell_type": "code",
      "metadata": {
        "id": "VIhchIKyw56o",
        "colab_type": "code",
        "colab": {}
      },
      "source": [
        "!mv \"/tmp/Dataset/Train/Normal\" \"/tmp/Xray_val_data\""
      ],
      "execution_count": 35,
      "outputs": []
    },
    {
      "cell_type": "code",
      "metadata": {
        "id": "0YdmAuX7xQk_",
        "colab_type": "code",
        "colab": {
          "base_uri": "https://localhost:8080/",
          "height": 34
        },
        "outputId": "4e823be9-0324-4064-f022-c3ebc9dbb247"
      },
      "source": [
        "!ls \"/tmp/Xray_val_data\""
      ],
      "execution_count": 36,
      "outputs": [
        {
          "output_type": "stream",
          "text": [
            "Covid  Normal\n"
          ],
          "name": "stdout"
        }
      ]
    },
    {
      "cell_type": "code",
      "metadata": {
        "id": "-jtP_H9Asa7V",
        "colab_type": "code",
        "colab": {}
      },
      "source": [
        "transform=transforms.Compose([\n",
        "                              transforms.Resize([64,64]),\n",
        "                              transforms.ToTensor()\n",
        "])\n",
        "test_dataset=ImageFolder(\"/tmp/Xray_val_data\",transform=transform)"
      ],
      "execution_count": 37,
      "outputs": []
    },
    {
      "cell_type": "code",
      "metadata": {
        "id": "4-EPy-1jsz39",
        "colab_type": "code",
        "colab": {
          "base_uri": "https://localhost:8080/",
          "height": 34
        },
        "outputId": "6f916b3f-5477-43c5-879e-9ae5b84221b3"
      },
      "source": [
        "len(test_dataset)"
      ],
      "execution_count": 38,
      "outputs": [
        {
          "output_type": "execute_result",
          "data": {
            "text/plain": [
              "288"
            ]
          },
          "metadata": {
            "tags": []
          },
          "execution_count": 38
        }
      ]
    },
    {
      "cell_type": "code",
      "metadata": {
        "id": "YwjClGzqsz_D",
        "colab_type": "code",
        "colab": {
          "base_uri": "https://localhost:8080/",
          "height": 84
        },
        "outputId": "22087244-6dca-4d41-e6b5-c8273a37be64"
      },
      "source": [
        "# Checking For Samples\n",
        "img0,label0=test_dataset[0]\n",
        "print(img0.shape,label0)\n",
        "img1,label1=test_dataset[150]\n",
        "print(img1.shape,label1)\n",
        "print(\"*\"*60)\n",
        "print(test_dataset.classes)#list out all the classes"
      ],
      "execution_count": 39,
      "outputs": [
        {
          "output_type": "stream",
          "text": [
            "torch.Size([3, 64, 64]) 0\n",
            "torch.Size([3, 64, 64]) 1\n",
            "************************************************************\n",
            "['Covid', 'Normal']\n"
          ],
          "name": "stdout"
        }
      ]
    },
    {
      "cell_type": "code",
      "metadata": {
        "id": "tCgxoVKOuGrU",
        "colab_type": "code",
        "colab": {
          "base_uri": "https://localhost:8080/",
          "height": 34
        },
        "outputId": "34970d00-74b4-4463-bdc5-78e600af20b0"
      },
      "source": [
        "def split_train_val(tot_img,val_percentage=0.2,rnd=23):\n",
        "  number_of_val=int(tot_img*val_percentage)\n",
        "  np.random.seed(rnd)\n",
        "  indexs=np.random.permutation(tot_img)\n",
        "  return indexs[number_of_val:],indexs[:number_of_val]\n",
        "\n",
        "randomness=12\n",
        "test_per=0.5\n",
        "test1_indices,test2_indices=split_train_val(len(test_dataset),test_per,randomness)\n",
        "print(test2_indices[:5])"
      ],
      "execution_count": 40,
      "outputs": [
        {
          "output_type": "stream",
          "text": [
            "[237 256 133  11  94]\n"
          ],
          "name": "stdout"
        }
      ]
    },
    {
      "cell_type": "code",
      "metadata": {
        "id": "DNBwBPu-sz8t",
        "colab_type": "code",
        "colab": {}
      },
      "source": [
        "batch_size=32\n",
        "# Training Part\n",
        "test1_sampler=SubsetRandomSampler(test1_indices)\n",
        "test1_ds=DataLoader(test_dataset,batch_size,sampler=test1_sampler)\n",
        "\n",
        "test2_sampler=SubsetRandomSampler(test2_indices)\n",
        "test2_ds=DataLoader(test_dataset,batch_size,sampler=test2_sampler)"
      ],
      "execution_count": 41,
      "outputs": []
    },
    {
      "cell_type": "code",
      "metadata": {
        "id": "8kGw6HCgszoC",
        "colab_type": "code",
        "colab": {
          "base_uri": "https://localhost:8080/",
          "height": 34
        },
        "outputId": "cbc0a72a-0707-4319-9d14-7c99b666f5bf"
      },
      "source": [
        "right = 0\n",
        "total = 0\n",
        "with torch.no_grad():\n",
        "    for data in test1_ds:\n",
        "        images, labels = data\n",
        "        outputs = model(images)\n",
        "        _, predicted = torch.max(outputs.data, 1)\n",
        "        total += labels.size(0)\n",
        "        right += (predicted == labels).sum().item()\n",
        "\n",
        "print('Accuracy on the Test images: %d %%' % (\n",
        "    100 * right / total))"
      ],
      "execution_count": 46,
      "outputs": [
        {
          "output_type": "stream",
          "text": [
            "Accuracy on the Test images: 93 %\n"
          ],
          "name": "stdout"
        }
      ]
    }
  ]
}